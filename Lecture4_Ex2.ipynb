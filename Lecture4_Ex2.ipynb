{
  "nbformat": 4,
  "nbformat_minor": 0,
  "metadata": {
    "colab": {
      "provenance": []
    },
    "kernelspec": {
      "name": "python3",
      "display_name": "Python 3"
    },
    "language_info": {
      "name": "python"
    }
  },
  "cells": [
    {
      "cell_type": "markdown",
      "source": [
        "# Exercise 2a - Basic Mathematical Operations"
      ],
      "metadata": {
        "id": "_rs-5Nw4oe6d"
      }
    },
    {
      "cell_type": "code",
      "execution_count": null,
      "metadata": {
        "id": "3yjOrzrBl7hz"
      },
      "outputs": [],
      "source": [
        "x = 10\n",
        "y = 4\n",
        "\n",
        "print(x + y)\n",
        "print(x - y)\n",
        "print(x * y)\n",
        "print(x / y)\n",
        "print(x % y)\n",
        "print(x ** y)\n",
        "print(x // y)"
      ]
    },
    {
      "cell_type": "markdown",
      "source": [
        "# Exercise 2b - Type Conversion"
      ],
      "metadata": {
        "id": "8MAV_1ekX6TF"
      }
    },
    {
      "cell_type": "code",
      "source": [
        "x = 3.5\n",
        "x?\n",
        "\n",
        "y = int(x)\n",
        "y?"
      ],
      "metadata": {
        "colab": {
          "base_uri": "https://localhost:8080/",
          "height": 106
        },
        "id": "CH9iQ50ZYDjA",
        "outputId": "f367786c-addb-47ad-bdd5-38cb30a47252"
      },
      "execution_count": 2,
      "outputs": [
        {
          "output_type": "error",
          "ename": "SyntaxError",
          "evalue": "invalid syntax (<ipython-input-2-d6a6ae26bd18>, line 2)",
          "traceback": [
            "\u001b[0;36m  File \u001b[0;32m\"<ipython-input-2-d6a6ae26bd18>\"\u001b[0;36m, line \u001b[0;32m2\u001b[0m\n\u001b[0;31m    print(x?)\u001b[0m\n\u001b[0m           ^\u001b[0m\n\u001b[0;31mSyntaxError\u001b[0m\u001b[0;31m:\u001b[0m invalid syntax\n"
          ]
        }
      ]
    },
    {
      "cell_type": "code",
      "source": [
        "x = 3\n",
        "x?\n",
        "\n",
        "y = float(x)\n",
        "y?"
      ],
      "metadata": {
        "id": "a43yscVJYR6t"
      },
      "execution_count": null,
      "outputs": []
    },
    {
      "cell_type": "markdown",
      "source": [
        "#Exercise 2c - Rounding Numbers"
      ],
      "metadata": {
        "id": "1zND_jeEolOn"
      }
    },
    {
      "cell_type": "code",
      "source": [
        "x = 1.123456\n",
        "x0 = round(x)\n",
        "x1 = round(x,1)\n",
        "x2 = round(x,2)\n",
        "x3 = round(x,3)\n",
        "\n",
        "print(x0)\n",
        "print(x1)\n",
        "print(x2)\n",
        "print(x3)"
      ],
      "metadata": {
        "colab": {
          "base_uri": "https://localhost:8080/"
        },
        "id": "bKmog7I8ooEJ",
        "outputId": "d5c271a2-d618-4602-97e9-1540098cc66b"
      },
      "execution_count": 3,
      "outputs": [
        {
          "output_type": "stream",
          "name": "stdout",
          "text": [
            "1\n",
            "1.1\n",
            "1.12\n",
            "1.123\n"
          ]
        }
      ]
    },
    {
      "cell_type": "code",
      "source": [
        "print(6.02*10**23)\n",
        "print(6.02e+23)"
      ],
      "metadata": {
        "id": "GipnUJ2seNzM"
      },
      "execution_count": null,
      "outputs": []
    },
    {
      "cell_type": "markdown",
      "source": [
        "# Exercise 2d - Relational Operators"
      ],
      "metadata": {
        "id": "_9jqeXmzuzYY"
      }
    },
    {
      "cell_type": "code",
      "source": [
        "x=1\n",
        "y=2\n",
        "\n",
        "print(x<y)\n",
        "\n"
      ],
      "metadata": {
        "colab": {
          "base_uri": "https://localhost:8080/"
        },
        "id": "cjf_tMuDatrz",
        "outputId": "d7532ecc-9c85-4c9d-8683-0071f619d90c"
      },
      "execution_count": 4,
      "outputs": [
        {
          "output_type": "stream",
          "name": "stdout",
          "text": [
            "True\n"
          ]
        }
      ]
    },
    {
      "cell_type": "code",
      "source": [
        "a=1.0\n",
        "b=1.00001\n",
        "\n",
        "print(\"a==b?\")\n",
        "a==b\n"
      ],
      "metadata": {
        "colab": {
          "base_uri": "https://localhost:8080/"
        },
        "id": "RZfajHtgbEXe",
        "outputId": "a44e51b3-f14e-47f7-f8de-e9a72a637911"
      },
      "execution_count": 7,
      "outputs": [
        {
          "output_type": "stream",
          "name": "stdout",
          "text": [
            "a==b?\n"
          ]
        },
        {
          "output_type": "execute_result",
          "data": {
            "text/plain": [
              "False"
            ]
          },
          "metadata": {},
          "execution_count": 7
        }
      ]
    },
    {
      "cell_type": "markdown",
      "source": [
        "# Exercise 2e - Logical Operators"
      ],
      "metadata": {
        "id": "kRxydHdyb3Qw"
      }
    },
    {
      "cell_type": "code",
      "source": [
        "weekday = True\n",
        "weekend = False\n",
        "\n",
        "print(weekday and weekend)\n",
        "print(weekday or weekend)\n",
        "print(weekday and weekday)\n",
        "print(weekend and weekend)"
      ],
      "metadata": {
        "colab": {
          "base_uri": "https://localhost:8080/"
        },
        "id": "Diuwir_Ob8b3",
        "outputId": "6e82abeb-e35e-48d5-9365-a0f316f2cb0e"
      },
      "execution_count": 10,
      "outputs": [
        {
          "output_type": "stream",
          "name": "stdout",
          "text": [
            "False\n",
            "True\n",
            "True\n",
            "False\n"
          ]
        }
      ]
    },
    {
      "cell_type": "markdown",
      "source": [
        "# Exercise 2f - If Else"
      ],
      "metadata": {
        "id": "btJ6j5vjDVb7"
      }
    },
    {
      "cell_type": "markdown",
      "source": [
        "If statement"
      ],
      "metadata": {
        "id": "ekO6nC42DhOP"
      }
    },
    {
      "cell_type": "code",
      "source": [
        "number = -10\n",
        "\n",
        "# check if number is greater than 0\n",
        "if number > 0:\n",
        "    print('Number is positive')\n",
        "\n",
        "print('This statement always executes')"
      ],
      "metadata": {
        "id": "RAc1RF-RDcBi"
      },
      "execution_count": null,
      "outputs": []
    },
    {
      "cell_type": "markdown",
      "source": [
        "If-else statement"
      ],
      "metadata": {
        "id": "dEO0X-miDjm6"
      }
    },
    {
      "cell_type": "code",
      "source": [
        "number = -10\n",
        "\n",
        "if number > 0:\n",
        "    print('Positive number')\n",
        "\n",
        "else:\n",
        "    print('Negative number')\n",
        "\n",
        "print('This statement always executes')"
      ],
      "metadata": {
        "id": "NsHfnp5dDnEs"
      },
      "execution_count": null,
      "outputs": []
    },
    {
      "cell_type": "markdown",
      "source": [
        "If-elif-else statement"
      ],
      "metadata": {
        "id": "0aDZ4zdADqRe"
      }
    },
    {
      "cell_type": "code",
      "source": [
        "number = 0\n",
        "\n",
        "if number > 0:\n",
        "    print('Positive number')\n",
        "\n",
        "elif number <0:\n",
        "    print('Negative number')\n",
        "\n",
        "else:\n",
        "    print('Zero')\n",
        "\n",
        "print('This statement is always executed')"
      ],
      "metadata": {
        "id": "RIKKWqFRDs5c"
      },
      "execution_count": null,
      "outputs": []
    },
    {
      "cell_type": "markdown",
      "source": [
        "Nested if statement"
      ],
      "metadata": {
        "id": "gIp03-XyDwKM"
      }
    },
    {
      "cell_type": "code",
      "source": [
        "number = 5\n",
        "\n",
        "# outer if statement\n",
        "if number >= 0:\n",
        "    # inner if statement\n",
        "    if number == 0:\n",
        "      print('Number is 0')\n",
        "\n",
        "    # inner else statement\n",
        "    else:\n",
        "        print('Number is positive')\n",
        "\n",
        "# outer else statement\n",
        "else:\n",
        "    print('Number is negative')"
      ],
      "metadata": {
        "id": "2hJ0i1uXD1MX"
      },
      "execution_count": null,
      "outputs": []
    }
  ]
}