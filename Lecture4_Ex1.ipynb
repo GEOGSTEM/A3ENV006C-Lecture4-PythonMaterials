{
  "cells": [
    {
      "cell_type": "markdown",
      "metadata": {
        "id": "yD2zMZzVeRFF"
      },
      "source": [
        "# Exercise 1a - Data Types"
      ]
    },
    {
      "cell_type": "code",
      "execution_count": null,
      "metadata": {
        "id": "NWv1HsWxQoYr"
      },
      "outputs": [],
      "source": [
        "a=1\n",
        "a?"
      ]
    },
    {
      "cell_type": "code",
      "execution_count": null,
      "metadata": {
        "id": "uCFn7j2PQoYs"
      },
      "outputs": [],
      "source": [
        "b=1.0\n",
        "b?"
      ]
    },
    {
      "cell_type": "code",
      "execution_count": null,
      "metadata": {
        "id": "M5nhZ34RQoYs"
      },
      "outputs": [],
      "source": [
        "schoolday=True\n",
        "schoolday?"
      ]
    },
    {
      "cell_type": "markdown",
      "metadata": {
        "id": "jJRc74DsQoYt"
      },
      "source": [
        "# Exercise 1b - Assigning Variables"
      ]
    },
    {
      "cell_type": "code",
      "execution_count": null,
      "metadata": {
        "colab": {
          "base_uri": "https://localhost:8080/"
        },
        "id": "HBrQ4zPLXXsZ",
        "outputId": "3a530649-8a0f-4b41-a4c3-06bb222dddc7"
      },
      "outputs": [
        {
          "output_type": "stream",
          "name": "stdout",
          "text": [
            "5\n",
            "John\n"
          ]
        }
      ],
      "source": [
        "var1 = 5\n",
        "var2 = \"John\"\n",
        "print(var1)\n",
        "print(var2)"
      ]
    },
    {
      "cell_type": "markdown",
      "metadata": {
        "id": "aeDnMhByeWSr"
      },
      "source": [
        "# Exercise 1c - Naming Conventions\n",
        "You should be able to execute this cell:"
      ]
    },
    {
      "cell_type": "code",
      "execution_count": null,
      "metadata": {
        "id": "jfyXJO7We6HI"
      },
      "outputs": [],
      "source": [
        "myvar = \"John\"\n",
        "my_var = \"John\"\n",
        "_my_var = \"John\"\n",
        "myVar = \"John\"\n",
        "MYVAR = \"John\"\n",
        "myvar2 = \"John\""
      ]
    },
    {
      "cell_type": "markdown",
      "metadata": {
        "id": "2_2es9dXekoo"
      },
      "source": [
        "But not these, because the names of variables are not allowed.\n",
        "You will get an error message."
      ]
    },
    {
      "cell_type": "code",
      "execution_count": null,
      "metadata": {
        "id": "btA5TlHLeqOd"
      },
      "outputs": [],
      "source": [
        "2myvar = \"John\""
      ]
    },
    {
      "cell_type": "code",
      "execution_count": null,
      "metadata": {
        "id": "Rxyo2nD5fGII"
      },
      "outputs": [],
      "source": [
        "my-var = \"John\""
      ]
    },
    {
      "cell_type": "code",
      "execution_count": null,
      "metadata": {
        "id": "Oq7QlbMwfIF6"
      },
      "outputs": [],
      "source": [
        "my var = \"John\""
      ]
    },
    {
      "cell_type": "markdown",
      "metadata": {
        "id": "BrAe0utxgMWb"
      },
      "source": [
        "# Exercise 1d - List of reserved words"
      ]
    },
    {
      "cell_type": "code",
      "execution_count": null,
      "metadata": {
        "colab": {
          "base_uri": "https://localhost:8080/"
        },
        "id": "Bh7soutQgQ_k",
        "outputId": "ee5ce3d4-8c88-48d3-c11f-c7f23815bb24"
      },
      "outputs": [
        {
          "data": {
            "text/plain": [
              "['False',\n",
              " 'None',\n",
              " 'True',\n",
              " 'and',\n",
              " 'as',\n",
              " 'assert',\n",
              " 'async',\n",
              " 'await',\n",
              " 'break',\n",
              " 'class',\n",
              " 'continue',\n",
              " 'def',\n",
              " 'del',\n",
              " 'elif',\n",
              " 'else',\n",
              " 'except',\n",
              " 'finally',\n",
              " 'for',\n",
              " 'from',\n",
              " 'global',\n",
              " 'if',\n",
              " 'import',\n",
              " 'in',\n",
              " 'is',\n",
              " 'lambda',\n",
              " 'nonlocal',\n",
              " 'not',\n",
              " 'or',\n",
              " 'pass',\n",
              " 'raise',\n",
              " 'return',\n",
              " 'try',\n",
              " 'while',\n",
              " 'with',\n",
              " 'yield']"
            ]
          },
          "execution_count": 14,
          "metadata": {},
          "output_type": "execute_result"
        }
      ],
      "source": [
        "import keyword\n",
        "keyword.kwlist"
      ]
    }
  ],
  "metadata": {
    "colab": {
      "provenance": []
    },
    "kernelspec": {
      "display_name": "Python 3",
      "name": "python3"
    },
    "language_info": {
      "name": "python"
    }
  },
  "nbformat": 4,
  "nbformat_minor": 0
}